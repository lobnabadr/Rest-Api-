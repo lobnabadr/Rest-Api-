{
 "cells": [
  {
   "cell_type": "code",
   "execution_count": 12,
   "id": "b94b3214",
   "metadata": {},
   "outputs": [],
   "source": [
    "from flask import Flask, request, jsonify\n",
    "from flask_sqlalchemy import SQLAlchemy\n",
    "\n",
    "app = Flask(__name__)\n",
    "app.config['SQLALCHEMY_DATABASE_URI'] = 'mssql+pyodbc://DESKTOP-BHDDBO5/DB_Employees'\n",
    "db = SQLAlchemy(app)\n",
    "\n",
    "@app.route('/')\n",
    "class Employee(db.Model):\n",
    "    Id = db.Column(db.Integer, primary_key=True)\n",
    "    Name = db.Column(db.String(50), nullable=False)\n",
    "    Age = db.Column(db.Integer)\n",
    "    Hiring_Date = db.Column(db.Date)\n",
    "\n",
    "    def __init__(self, Name, Age, Hiring_Date):\n",
    "        self.Name = Name\n",
    "        self.Age = Age\n",
    "        self.Hiring_Date = Hiring_Date\n",
    "\n",
    "\n",
    "@app.route('/employee_data', methods=['GET'])\n",
    "def get_employees():\n",
    "    Hiring_Date = request.args.get('Hiring_Date')\n",
    "    if Hiring_Date:\n",
    "        employee_data = Employee.query.filter_by(Hiring_Date=Hiring_Date).all()\n",
    "    else:\n",
    "        employee_data = Employee.query.all()\n",
    "\n",
    "    result = []\n",
    "    for employee in employee_data:\n",
    "        result.append({\n",
    "            'Id': employee.Id,\n",
    "            'Name': employee.name,\n",
    "            'Age': employee.Age,\n",
    "            'Hiring_Date': str(employee.Hiring_Date)\n",
    "        })\n",
    "\n",
    "    return jsonify(result)\n",
    "\n",
    "\n",
    "@app.route('/employee_data', methods=['POST'])\n",
    "def create_employee():\n",
    "    data = request.get_json()\n",
    "    Name = data.get('Name')\n",
    "    Age = data.get('Age')\n",
    "    Hiring_Date = data.get('Hiring_Date')\n",
    "\n",
    "    employee = Employee(Name, Age, Hiring_Date)\n",
    "    db.session.add(employee)\n",
    "    db.session.commit()\n",
    "\n",
    "    return jsonify({'message': 'Employee created successfully.'})\n",
    "\n",
    "\n",
    "if __name__ == '__main__':\n",
    "    from waitress import serve\n",
    "    serve(app, host=\"0.0.0.0\", port=8080)\n",
    "       "
   ]
  },
  {
   "cell_type": "code",
   "execution_count": null,
   "id": "dced9bc3",
   "metadata": {},
   "outputs": [],
   "source": [
    "\n",
    "app.run()"
   ]
  },
  {
   "cell_type": "code",
   "execution_count": 3,
   "id": "d09ac54c",
   "metadata": {},
   "outputs": [
    {
     "name": "stdout",
     "output_type": "stream",
     "text": [
      "Collecting flask\n",
      "  Using cached flask-3.0.2-py3-none-any.whl (101 kB)\n",
      "Collecting Werkzeug>=3.0.0 (from flask)\n",
      "  Using cached werkzeug-3.0.1-py3-none-any.whl (226 kB)\n",
      "Collecting Jinja2>=3.1.2 (from flask)\n",
      "  Using cached Jinja2-3.1.3-py3-none-any.whl (133 kB)\n",
      "Collecting itsdangerous>=2.1.2 (from flask)\n",
      "  Using cached itsdangerous-2.1.2-py3-none-any.whl (15 kB)\n",
      "Collecting click>=8.1.3 (from flask)\n",
      "  Using cached click-8.1.7-py3-none-any.whl (97 kB)\n",
      "Collecting blinker>=1.6.2 (from flask)\n",
      "  Using cached blinker-1.7.0-py3-none-any.whl (13 kB)\n",
      "Requirement already satisfied: colorama in c:\\users\\99\\appdata\\local\\packages\\pythonsoftwarefoundation.python.3.11_qbz5n2kfra8p0\\localcache\\local-packages\\python311\\site-packages (from click>=8.1.3->flask) (0.4.6)\n",
      "Collecting MarkupSafe>=2.0 (from Jinja2>=3.1.2->flask)\n",
      "  Downloading MarkupSafe-2.1.5-cp311-cp311-win_amd64.whl (17 kB)\n",
      "Installing collected packages: MarkupSafe, itsdangerous, click, blinker, Werkzeug, Jinja2, flask\n",
      "Successfully installed Jinja2-3.1.3 MarkupSafe-2.1.5 Werkzeug-3.0.1 blinker-1.7.0 click-8.1.7 flask-3.0.2 itsdangerous-2.1.2\n",
      "Note: you may need to restart the kernel to use updated packages.\n"
     ]
    },
    {
     "name": "stderr",
     "output_type": "stream",
     "text": [
      "\n",
      "[notice] A new release of pip is available: 23.1.2 -> 24.0\n",
      "[notice] To update, run: C:\\Users\\99\\AppData\\Local\\Microsoft\\WindowsApps\\PythonSoftwareFoundation.Python.3.11_qbz5n2kfra8p0\\python.exe -m pip install --upgrade pip\n"
     ]
    }
   ],
   "source": [
    "pip install flask"
   ]
  },
  {
   "cell_type": "code",
   "execution_count": 5,
   "id": "17ef72b9",
   "metadata": {},
   "outputs": [
    {
     "name": "stdout",
     "output_type": "stream",
     "text": [
      "Collecting flask_sqlalchemyNote: you may need to restart the kernel to use updated packages.\n",
      "\n",
      "  Using cached flask_sqlalchemy-3.1.1-py3-none-any.whl (25 kB)\n",
      "Requirement already satisfied: flask>=2.2.5 in c:\\users\\99\\appdata\\local\\packages\\pythonsoftwarefoundation.python.3.11_qbz5n2kfra8p0\\localcache\\local-packages\\python311\\site-packages (from flask_sqlalchemy) (3.0.2)\n",
      "Collecting sqlalchemy>=2.0.16 (from flask_sqlalchemy)\n",
      "  Downloading SQLAlchemy-2.0.27-cp311-cp311-win_amd64.whl (2.1 MB)\n",
      "                                              0.0/2.1 MB ? eta -:--:--\n",
      "                                              0.0/2.1 MB 660.6 kB/s eta 0:00:04\n",
      "     -                                        0.1/2.1 MB 585.1 kB/s eta 0:00:04\n",
      "     -                                        0.1/2.1 MB 585.1 kB/s eta 0:00:04\n",
      "     --                                       0.1/2.1 MB 469.7 kB/s eta 0:00:05\n",
      "     ---                                      0.2/2.1 MB 546.6 kB/s eta 0:00:04\n",
      "     ---                                      0.2/2.1 MB 553.5 kB/s eta 0:00:04\n",
      "     ---                                      0.2/2.1 MB 553.5 kB/s eta 0:00:04\n",
      "     ---                                      0.2/2.1 MB 437.8 kB/s eta 0:00:05\n",
      "     ----                                     0.2/2.1 MB 486.6 kB/s eta 0:00:04\n",
      "     -----                                    0.3/2.1 MB 506.4 kB/s eta 0:00:04\n",
      "     ------                                   0.3/2.1 MB 531.5 kB/s eta 0:00:04\n",
      "     ------                                   0.3/2.1 MB 528.0 kB/s eta 0:00:04\n",
      "     -------                                  0.4/2.1 MB 549.4 kB/s eta 0:00:04\n",
      "     -------                                  0.4/2.1 MB 556.2 kB/s eta 0:00:03\n",
      "     --------                                 0.5/2.1 MB 575.6 kB/s eta 0:00:03\n",
      "     ---------                                0.5/2.1 MB 591.8 kB/s eta 0:00:03\n",
      "     ----------                               0.5/2.1 MB 596.8 kB/s eta 0:00:03\n",
      "     ----------                               0.5/2.1 MB 598.3 kB/s eta 0:00:03\n",
      "     -----------                              0.6/2.1 MB 601.1 kB/s eta 0:00:03\n",
      "     -----------                              0.6/2.1 MB 604.2 kB/s eta 0:00:03\n",
      "     ------------                             0.6/2.1 MB 597.8 kB/s eta 0:00:03\n",
      "     ------------                             0.7/2.1 MB 598.4 kB/s eta 0:00:03\n",
      "     ------------                             0.7/2.1 MB 598.4 kB/s eta 0:00:03\n",
      "     -------------                            0.7/2.1 MB 560.7 kB/s eta 0:00:03\n",
      "     --------------                           0.7/2.1 MB 566.6 kB/s eta 0:00:03\n",
      "     ---------------                          0.8/2.1 MB 592.6 kB/s eta 0:00:03\n",
      "     ---------------                          0.8/2.1 MB 594.7 kB/s eta 0:00:03\n",
      "     ----------------                         0.8/2.1 MB 596.7 kB/s eta 0:00:03\n",
      "     -----------------                        0.9/2.1 MB 599.0 kB/s eta 0:00:02\n",
      "     -----------------                        0.9/2.1 MB 621.0 kB/s eta 0:00:02\n",
      "     ------------------                       1.0/2.1 MB 621.8 kB/s eta 0:00:02\n",
      "     ------------------                       1.0/2.1 MB 616.0 kB/s eta 0:00:02\n",
      "     -------------------                      1.0/2.1 MB 617.5 kB/s eta 0:00:02\n",
      "     --------------------                     1.0/2.1 MB 624.5 kB/s eta 0:00:02\n",
      "     ---------------------                    1.1/2.1 MB 631.8 kB/s eta 0:00:02\n",
      "     ---------------------                    1.1/2.1 MB 632.4 kB/s eta 0:00:02\n",
      "     ----------------------                   1.2/2.1 MB 644.3 kB/s eta 0:00:02\n",
      "     -----------------------                  1.2/2.1 MB 639.0 kB/s eta 0:00:02\n",
      "     -----------------------                  1.2/2.1 MB 644.7 kB/s eta 0:00:02\n",
      "     ------------------------                 1.3/2.1 MB 655.5 kB/s eta 0:00:02\n",
      "     -------------------------                1.3/2.1 MB 660.5 kB/s eta 0:00:02\n",
      "     -------------------------                1.3/2.1 MB 660.5 kB/s eta 0:00:02\n",
      "     -------------------------                1.3/2.1 MB 636.0 kB/s eta 0:00:02\n",
      "     --------------------------               1.4/2.1 MB 640.9 kB/s eta 0:00:02\n",
      "     ---------------------------              1.4/2.1 MB 646.1 kB/s eta 0:00:02\n",
      "     ----------------------------             1.5/2.1 MB 655.5 kB/s eta 0:00:01\n",
      "     -----------------------------            1.5/2.1 MB 655.4 kB/s eta 0:00:01\n",
      "     -----------------------------            1.5/2.1 MB 659.9 kB/s eta 0:00:01\n",
      "     ------------------------------           1.6/2.1 MB 664.0 kB/s eta 0:00:01\n",
      "     -------------------------------          1.6/2.1 MB 664.1 kB/s eta 0:00:01\n",
      "     --------------------------------         1.7/2.1 MB 672.2 kB/s eta 0:00:01\n",
      "     --------------------------------         1.7/2.1 MB 671.8 kB/s eta 0:00:01\n",
      "     ---------------------------------        1.8/2.1 MB 679.5 kB/s eta 0:00:01\n",
      "     ----------------------------------       1.8/2.1 MB 686.9 kB/s eta 0:00:01\n",
      "     -----------------------------------      1.8/2.1 MB 686.3 kB/s eta 0:00:01\n",
      "     ------------------------------------     1.9/2.1 MB 693.3 kB/s eta 0:00:01\n",
      "     -------------------------------------    1.9/2.1 MB 700.0 kB/s eta 0:00:01\n",
      "     --------------------------------------   2.0/2.1 MB 707.0 kB/s eta 0:00:01\n",
      "     ---------------------------------------  2.0/2.1 MB 709.6 kB/s eta 0:00:01\n",
      "     ---------------------------------------  2.1/2.1 MB 712.2 kB/s eta 0:00:01\n",
      "     ---------------------------------------  2.1/2.1 MB 712.2 kB/s eta 0:00:01\n",
      "     ---------------------------------------  2.1/2.1 MB 712.2 kB/s eta 0:00:01\n",
      "     ---------------------------------------- 2.1/2.1 MB 687.1 kB/s eta 0:00:00\n",
      "Requirement already satisfied: Werkzeug>=3.0.0 in c:\\users\\99\\appdata\\local\\packages\\pythonsoftwarefoundation.python.3.11_qbz5n2kfra8p0\\localcache\\local-packages\\python311\\site-packages (from flask>=2.2.5->flask_sqlalchemy) (3.0.1)\n",
      "Requirement already satisfied: Jinja2>=3.1.2 in c:\\users\\99\\appdata\\local\\packages\\pythonsoftwarefoundation.python.3.11_qbz5n2kfra8p0\\localcache\\local-packages\\python311\\site-packages (from flask>=2.2.5->flask_sqlalchemy) (3.1.3)\n",
      "Requirement already satisfied: itsdangerous>=2.1.2 in c:\\users\\99\\appdata\\local\\packages\\pythonsoftwarefoundation.python.3.11_qbz5n2kfra8p0\\localcache\\local-packages\\python311\\site-packages (from flask>=2.2.5->flask_sqlalchemy) (2.1.2)\n",
      "Requirement already satisfied: click>=8.1.3 in c:\\users\\99\\appdata\\local\\packages\\pythonsoftwarefoundation.python.3.11_qbz5n2kfra8p0\\localcache\\local-packages\\python311\\site-packages (from flask>=2.2.5->flask_sqlalchemy) (8.1.7)\n",
      "Requirement already satisfied: blinker>=1.6.2 in c:\\users\\99\\appdata\\local\\packages\\pythonsoftwarefoundation.python.3.11_qbz5n2kfra8p0\\localcache\\local-packages\\python311\\site-packages (from flask>=2.2.5->flask_sqlalchemy) (1.7.0)\n",
      "Collecting typing-extensions>=4.6.0 (from sqlalchemy>=2.0.16->flask_sqlalchemy)\n",
      "  Using cached typing_extensions-4.9.0-py3-none-any.whl (32 kB)\n",
      "Collecting greenlet!=0.4.17 (from sqlalchemy>=2.0.16->flask_sqlalchemy)\n",
      "  Downloading greenlet-3.0.3-cp311-cp311-win_amd64.whl (292 kB)\n",
      "                                              0.0/292.8 kB ? eta -:--:--\n",
      "     -----                                   41.0/292.8 kB 2.0 MB/s eta 0:00:01\n",
      "     ------------                            92.2/292.8 kB 1.3 MB/s eta 0:00:01\n",
      "     ------------------                     143.4/292.8 kB 1.2 MB/s eta 0:00:01\n",
      "     ----------------------                 174.1/292.8 kB 1.2 MB/s eta 0:00:01\n",
      "     -----------------------------          225.3/292.8 kB 1.1 MB/s eta 0:00:01\n",
      "     -----------------------------------    276.5/292.8 kB 1.1 MB/s eta 0:00:01\n",
      "     -------------------------------------  286.7/292.8 kB 1.0 MB/s eta 0:00:01\n",
      "     ------------------------------------ 292.8/292.8 kB 787.1 kB/s eta 0:00:00\n",
      "Requirement already satisfied: colorama in c:\\users\\99\\appdata\\local\\packages\\pythonsoftwarefoundation.python.3.11_qbz5n2kfra8p0\\localcache\\local-packages\\python311\\site-packages (from click>=8.1.3->flask>=2.2.5->flask_sqlalchemy) (0.4.6)\n",
      "Requirement already satisfied: MarkupSafe>=2.0 in c:\\users\\99\\appdata\\local\\packages\\pythonsoftwarefoundation.python.3.11_qbz5n2kfra8p0\\localcache\\local-packages\\python311\\site-packages (from Jinja2>=3.1.2->flask>=2.2.5->flask_sqlalchemy) (2.1.5)\n",
      "Installing collected packages: typing-extensions, greenlet, sqlalchemy, flask_sqlalchemy\n",
      "Successfully installed flask_sqlalchemy-3.1.1 greenlet-3.0.3 sqlalchemy-2.0.27 typing-extensions-4.9.0\n"
     ]
    },
    {
     "name": "stderr",
     "output_type": "stream",
     "text": [
      "\n",
      "[notice] A new release of pip is available: 23.1.2 -> 24.0\n",
      "[notice] To update, run: C:\\Users\\99\\AppData\\Local\\Microsoft\\WindowsApps\\PythonSoftwareFoundation.Python.3.11_qbz5n2kfra8p0\\python.exe -m pip install --upgrade pip\n"
     ]
    }
   ],
   "source": [
    "pip install flask_sqlalchemy"
   ]
  },
  {
   "cell_type": "code",
   "execution_count": 9,
   "id": "0349c16a",
   "metadata": {},
   "outputs": [
    {
     "name": "stdout",
     "output_type": "stream",
     "text": [
      "Collecting pyodbc\n",
      "  Downloading pyodbc-5.1.0-cp311-cp311-win_amd64.whl (68 kB)\n",
      "                                              0.0/68.7 kB ? eta -:--:--\n",
      "                                              0.0/68.7 kB ? eta -:--:--\n",
      "     -----                                    10.2/68.7 kB ? eta -:--:--\n",
      "     -----                                    10.2/68.7 kB ? eta -:--:--\n",
      "     -----                                    10.2/68.7 kB ? eta -:--:--\n",
      "     -----                                    10.2/68.7 kB ? eta -:--:--\n",
      "     ----------------                       30.7/68.7 kB 108.9 kB/s eta 0:00:01\n",
      "     ----------------                       30.7/68.7 kB 108.9 kB/s eta 0:00:01\n",
      "     ---------------------------------      61.4/68.7 kB 172.4 kB/s eta 0:00:01\n",
      "     ---------------------------------      61.4/68.7 kB 172.4 kB/s eta 0:00:01\n",
      "     -------------------------------------- 68.7/68.7 kB 149.6 kB/s eta 0:00:00\n",
      "Installing collected packages: pyodbc\n",
      "Successfully installed pyodbc-5.1.0\n",
      "Note: you may need to restart the kernel to use updated packages.\n"
     ]
    },
    {
     "name": "stderr",
     "output_type": "stream",
     "text": [
      "\n",
      "[notice] A new release of pip is available: 23.1.2 -> 24.0\n",
      "[notice] To update, run: C:\\Users\\99\\AppData\\Local\\Microsoft\\WindowsApps\\PythonSoftwareFoundation.Python.3.11_qbz5n2kfra8p0\\python.exe -m pip install --upgrade pip\n"
     ]
    }
   ],
   "source": [
    "pip install pyodbc"
   ]
  },
  {
   "cell_type": "code",
   "execution_count": 14,
   "id": "c1a7f1c9",
   "metadata": {},
   "outputs": [
    {
     "name": "stdout",
     "output_type": "stream",
     "text": [
      "Collecting waitress\n",
      "  Downloading waitress-3.0.0-py3-none-any.whl (56 kB)\n",
      "                                              0.0/56.7 kB ? eta -:--:--\n",
      "     ---------------------                    30.7/56.7 kB ? eta -:--:--\n",
      "     ----------------------------------     51.2/56.7 kB 660.6 kB/s eta 0:00:01\n",
      "     ----------------------------------     51.2/56.7 kB 660.6 kB/s eta 0:00:01\n",
      "     -------------------------------------- 56.7/56.7 kB 297.8 kB/s eta 0:00:00\n",
      "Installing collected packages: waitress\n",
      "Successfully installed waitress-3.0.0\n",
      "Note: you may need to restart the kernel to use updated packages.\n"
     ]
    },
    {
     "name": "stderr",
     "output_type": "stream",
     "text": [
      "\n",
      "[notice] A new release of pip is available: 23.1.2 -> 24.0\n",
      "[notice] To update, run: C:\\Users\\99\\AppData\\Local\\Microsoft\\WindowsApps\\PythonSoftwareFoundation.Python.3.11_qbz5n2kfra8p0\\python.exe -m pip install --upgrade pip\n"
     ]
    }
   ],
   "source": [
    "pip install waitress"
   ]
  },
  {
   "cell_type": "code",
   "execution_count": 2,
   "id": "d8a8ed54",
   "metadata": {},
   "outputs": [
    {
     "name": "stdout",
     "output_type": "stream",
     "text": [
      "Note: you may need to restart the kernel to use updated packages.\n"
     ]
    },
    {
     "name": "stderr",
     "output_type": "stream",
     "text": [
      "ERROR: Could not find a version that satisfies the requirement Get-OdbcDriver (from versions: none)\n",
      "ERROR: No matching distribution found for Get-OdbcDriver\n",
      "\n",
      "[notice] A new release of pip is available: 23.1.2 -> 24.0\n",
      "[notice] To update, run: C:\\Users\\99\\AppData\\Local\\Microsoft\\WindowsApps\\PythonSoftwareFoundation.Python.3.11_qbz5n2kfra8p0\\python.exe -m pip install --upgrade pip\n"
     ]
    }
   ],
   "source": [
    "pip install Get-OdbcDriver"
   ]
  },
  {
   "cell_type": "code",
   "execution_count": null,
   "id": "e30543d8",
   "metadata": {},
   "outputs": [],
   "source": []
  }
 ],
 "metadata": {
  "kernelspec": {
   "display_name": "Python 3",
   "language": "python",
   "name": "python3"
  },
  "language_info": {
   "codemirror_mode": {
    "name": "ipython",
    "version": 3
   },
   "file_extension": ".py",
   "mimetype": "text/x-python",
   "name": "python",
   "nbconvert_exporter": "python",
   "pygments_lexer": "ipython3",
   "version": "3.11.4"
  }
 },
 "nbformat": 4,
 "nbformat_minor": 5
}
